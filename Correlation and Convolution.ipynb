{
 "cells": [
  {
   "cell_type": "code",
   "execution_count": 3,
   "id": "e94e1b23",
   "metadata": {},
   "outputs": [],
   "source": [
    "import cv2\n",
    "import matplotlib.pyplot as plt\n",
    "import numpy as np\n",
    "from scipy import ndimage"
   ]
  },
  {
   "cell_type": "code",
   "execution_count": 17,
   "id": "d0b732e9",
   "metadata": {},
   "outputs": [],
   "source": [
    "src=cv2.imread(\"img2.jpg\", 0)"
   ]
  },
  {
   "cell_type": "code",
   "execution_count": 18,
   "id": "cfb5fe0a",
   "metadata": {},
   "outputs": [],
   "source": [
    "cv2.imshow('Original', src)\n",
    "cv2.waitKey(0)  # Wait for a key press to close the window\n",
    "cv2.destroyAllWindows()  # Clean up windows"
   ]
  },
  {
   "cell_type": "code",
   "execution_count": 7,
   "id": "5754adbf",
   "metadata": {},
   "outputs": [],
   "source": [
    "#Identity Kernel\n",
    "kernel=np.array([[0,0,0],[0,1,0],[0,0,0]])"
   ]
  },
  {
   "cell_type": "code",
   "execution_count": 20,
   "id": "ab3b3e9d",
   "metadata": {},
   "outputs": [],
   "source": [
    "dist_corr = cv2.filter2D(src, -1, kernel)"
   ]
  },
  {
   "cell_type": "code",
   "execution_count": 21,
   "id": "65a0abea",
   "metadata": {},
   "outputs": [],
   "source": [
    "dist_conv = ndimage.convolve(src, kernel, mode='constant', cval=1.0)"
   ]
  },
  {
   "cell_type": "code",
   "execution_count": 22,
   "id": "9549a43c",
   "metadata": {},
   "outputs": [
    {
     "data": {
      "text/plain": [
       "True"
      ]
     },
     "execution_count": 22,
     "metadata": {},
     "output_type": "execute_result"
    }
   ],
   "source": [
    "result1 = np.concatenate((src, dist_conv), axis=1)\n",
    "cv2.imwrite('result1.jpg', result1)"
   ]
  },
  {
   "cell_type": "code",
   "execution_count": 23,
   "id": "9089051d",
   "metadata": {},
   "outputs": [],
   "source": [
    "cv2.imshow('IdentityKernel', result1)\n",
    "cv2.waitKey(0)  # Wait for a key press to close the window\n",
    "cv2.destroyAllWindows()  # Clean up windows"
   ]
  },
  {
   "cell_type": "code",
   "execution_count": 8,
   "id": "84c20391",
   "metadata": {},
   "outputs": [],
   "source": [
    "# Edge kernel\n",
    "kernel1=np.array([[-1,-1,-1],[-1,8,-1],[-1,-1,-1]])"
   ]
  },
  {
   "cell_type": "code",
   "execution_count": 25,
   "id": "2e027290",
   "metadata": {},
   "outputs": [],
   "source": [
    "dist_corr = cv2.filter2D(src, -1, kernel1)\n"
   ]
  },
  {
   "cell_type": "code",
   "execution_count": 26,
   "id": "901d7cf2",
   "metadata": {},
   "outputs": [],
   "source": [
    "dist_conv = ndimage.convolve(src, kernel1, mode='constant', cval=1.0)"
   ]
  },
  {
   "cell_type": "code",
   "execution_count": 27,
   "id": "3316edd4",
   "metadata": {},
   "outputs": [
    {
     "data": {
      "text/plain": [
       "True"
      ]
     },
     "execution_count": 27,
     "metadata": {},
     "output_type": "execute_result"
    }
   ],
   "source": [
    "result2 = np.concatenate((src, dist_conv), axis=1)\n",
    "cv2.imwrite('result2.jpg', result2)"
   ]
  },
  {
   "cell_type": "code",
   "execution_count": 28,
   "id": "26f00c45",
   "metadata": {},
   "outputs": [],
   "source": [
    "cv2.imshow('EdgeKernel', result2)\n",
    "cv2.waitKey(0)  # Wait for a key press to close the window\n",
    "cv2.destroyAllWindows()  # Clean up windows"
   ]
  },
  {
   "cell_type": "code",
   "execution_count": 9,
   "id": "04a2a4b1",
   "metadata": {},
   "outputs": [],
   "source": [
    "# Sharpen Kernel\n",
    "kernel2=np.array([[0,-1,0],[-1,5,-1],[0,-1,0]])"
   ]
  },
  {
   "cell_type": "code",
   "execution_count": 38,
   "id": "66740ce8",
   "metadata": {},
   "outputs": [],
   "source": [
    "dist_corr = cv2.filter2D(src, -1, kernel2)"
   ]
  },
  {
   "cell_type": "code",
   "execution_count": 41,
   "id": "f97182b4",
   "metadata": {},
   "outputs": [],
   "source": [
    "dist_conv = ndimage.convolve(src, kernel2, mode='mirror', cval=1.0)"
   ]
  },
  {
   "cell_type": "code",
   "execution_count": 42,
   "id": "e9dc928f",
   "metadata": {},
   "outputs": [
    {
     "data": {
      "text/plain": [
       "True"
      ]
     },
     "execution_count": 42,
     "metadata": {},
     "output_type": "execute_result"
    }
   ],
   "source": [
    "result3 = np.concatenate((src, dist_conv), axis=1)\n",
    "cv2.imwrite('result3.jpg', result3)"
   ]
  },
  {
   "cell_type": "code",
   "execution_count": 10,
   "id": "7c1ab0ee",
   "metadata": {},
   "outputs": [],
   "source": [
    "#Box Blur\n",
    "arr1=np.array([[1,1,1],[1,1,1],[1,1,1]])\n",
    "kernel3 = arr1 * 1/9"
   ]
  },
  {
   "cell_type": "code",
   "execution_count": 54,
   "id": "2a6a1417",
   "metadata": {},
   "outputs": [
    {
     "data": {
      "text/plain": [
       "array([[0.11111111, 0.11111111, 0.11111111],\n",
       "       [0.11111111, 0.11111111, 0.11111111],\n",
       "       [0.11111111, 0.11111111, 0.11111111]])"
      ]
     },
     "execution_count": 54,
     "metadata": {},
     "output_type": "execute_result"
    }
   ],
   "source": [
    "kernel3"
   ]
  },
  {
   "cell_type": "code",
   "execution_count": 55,
   "id": "0bef1334",
   "metadata": {},
   "outputs": [],
   "source": [
    "dist_corr = cv2.filter2D(src, -1, kernel3)"
   ]
  },
  {
   "cell_type": "code",
   "execution_count": 56,
   "id": "c764a364",
   "metadata": {},
   "outputs": [],
   "source": [
    "dist_conv = ndimage.convolve(src, kernel3, mode='constant', cval=1.0)"
   ]
  },
  {
   "cell_type": "code",
   "execution_count": 57,
   "id": "ff565640",
   "metadata": {},
   "outputs": [
    {
     "data": {
      "text/plain": [
       "True"
      ]
     },
     "execution_count": 57,
     "metadata": {},
     "output_type": "execute_result"
    }
   ],
   "source": [
    "result4 = np.concatenate((src, dist_conv), axis=1)\n",
    "cv2.imwrite('result4.jpg', result4)"
   ]
  },
  {
   "cell_type": "code",
   "execution_count": 11,
   "id": "f169b4db",
   "metadata": {},
   "outputs": [],
   "source": [
    "# Guassian Blue kernel\n",
    "arr2 = np.array([[1,4,6,4,1],[4,16,24,16,4],[6,24,36,24,6],[4,16,24,16,4],[1,4,6,4,1]])"
   ]
  },
  {
   "cell_type": "code",
   "execution_count": 12,
   "id": "f910f96c",
   "metadata": {},
   "outputs": [
    {
     "data": {
      "text/plain": [
       "array([[0.00390625, 0.015625  , 0.0234375 , 0.015625  , 0.00390625],\n",
       "       [0.015625  , 0.0625    , 0.09375   , 0.0625    , 0.015625  ],\n",
       "       [0.0234375 , 0.09375   , 0.140625  , 0.09375   , 0.0234375 ],\n",
       "       [0.015625  , 0.0625    , 0.09375   , 0.0625    , 0.015625  ],\n",
       "       [0.00390625, 0.015625  , 0.0234375 , 0.015625  , 0.00390625]])"
      ]
     },
     "execution_count": 12,
     "metadata": {},
     "output_type": "execute_result"
    }
   ],
   "source": [
    "kernel4 = arr2 * 1/256\n",
    "kernel4"
   ]
  },
  {
   "cell_type": "code",
   "execution_count": 60,
   "id": "e5dbb5fa",
   "metadata": {},
   "outputs": [],
   "source": [
    "dist_corr = cv2.filter2D(src, -1, kernel4)"
   ]
  },
  {
   "cell_type": "code",
   "execution_count": 61,
   "id": "69c253aa",
   "metadata": {},
   "outputs": [],
   "source": [
    "dist_conv = ndimage.convolve(src, kernel4, mode='reflect', cval=1.0)"
   ]
  },
  {
   "cell_type": "code",
   "execution_count": 62,
   "id": "9dd6c4d8",
   "metadata": {},
   "outputs": [
    {
     "data": {
      "text/plain": [
       "True"
      ]
     },
     "execution_count": 62,
     "metadata": {},
     "output_type": "execute_result"
    }
   ],
   "source": [
    "result5 = np.concatenate((src, dist_conv), axis=1)\n",
    "cv2.imwrite('result5.jpg', result5)"
   ]
  },
  {
   "cell_type": "code",
   "execution_count": null,
   "id": "399c1839",
   "metadata": {},
   "outputs": [],
   "source": []
  }
 ],
 "metadata": {
  "kernelspec": {
   "display_name": "Python 3",
   "language": "python",
   "name": "python3"
  },
  "language_info": {
   "codemirror_mode": {
    "name": "ipython",
    "version": 3
   },
   "file_extension": ".py",
   "mimetype": "text/x-python",
   "name": "python",
   "nbconvert_exporter": "python",
   "pygments_lexer": "ipython3",
   "version": "3.8.8"
  }
 },
 "nbformat": 4,
 "nbformat_minor": 5
}
